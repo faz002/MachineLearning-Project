{
 "cells": [
  {
   "cell_type": "markdown",
   "metadata": {
    "_cell_guid": "42bd3d11-972a-5842-77f3-99a44ef409a6"
   },
   "source": [
    "这是我第一次参加kaggle比赛，收获很大，提交了很多次，最后的结果停留在0.12，最近比较忙，不能再集中精力搞kaggle了，写一篇kernels，和大家分享一下经验。\n",
    "说明：本篇kernel参考了很多其他kernel的代码和经验，稍后会给出相应的链接。\n",
    "\n",
    "Thanks to:\n",
    "https://www.kaggle.com/pmarcelino/house-prices-advanced-regression-techniques/comprehensive-data-exploration-with-python\n",
    "\n",
    "https://www.kaggle.com/meikegw/house-prices-advanced-regression-techniques/filling-up-missing-values\n",
    "\n",
    "https://www.kaggle.com/apapiu/house-prices-advanced-regression-techniques/regularized-linear-models"
   ]
  },
  {
   "cell_type": "code",
   "execution_count": 1,
   "metadata": {
    "_cell_guid": "7a489dac-01a6-5c0c-230e-4c61bc86edcb"
   },
   "outputs": [
    {
     "ename": "CalledProcessError",
     "evalue": "Command '['ls', '../input']' returned non-zero exit status 2.",
     "output_type": "error",
     "traceback": [
      "\u001b[1;31m---------------------------------------------------------------------------\u001b[0m",
      "\u001b[1;31mCalledProcessError\u001b[0m                        Traceback (most recent call last)",
      "\u001b[1;32m<ipython-input-1-fde84f249a2a>\u001b[0m in \u001b[0;36m<module>\u001b[1;34m()\u001b[0m\n\u001b[0;32m     10\u001b[0m \u001b[1;33m\u001b[0m\u001b[0m\n\u001b[0;32m     11\u001b[0m \u001b[1;32mfrom\u001b[0m \u001b[0msubprocess\u001b[0m \u001b[1;32mimport\u001b[0m \u001b[0mcheck_output\u001b[0m\u001b[1;33m\u001b[0m\u001b[0m\n\u001b[1;32m---> 12\u001b[1;33m \u001b[0mprint\u001b[0m\u001b[1;33m(\u001b[0m\u001b[0mcheck_output\u001b[0m\u001b[1;33m(\u001b[0m\u001b[1;33m[\u001b[0m\u001b[1;34m\"ls\"\u001b[0m\u001b[1;33m,\u001b[0m \u001b[1;34m\"../input\"\u001b[0m\u001b[1;33m]\u001b[0m\u001b[1;33m)\u001b[0m\u001b[1;33m.\u001b[0m\u001b[0mdecode\u001b[0m\u001b[1;33m(\u001b[0m\u001b[1;34m\"utf8\"\u001b[0m\u001b[1;33m)\u001b[0m\u001b[1;33m)\u001b[0m\u001b[1;33m\u001b[0m\u001b[0m\n\u001b[0m\u001b[0;32m     13\u001b[0m \u001b[1;33m\u001b[0m\u001b[0m\n\u001b[0;32m     14\u001b[0m \u001b[1;31m# Any results you write to the current directory are saved as output.\u001b[0m\u001b[1;33m\u001b[0m\u001b[1;33m\u001b[0m\u001b[0m\n",
      "\u001b[1;32m~\\AppData\\Local\\Continuum\\anaconda3\\lib\\subprocess.py\u001b[0m in \u001b[0;36mcheck_output\u001b[1;34m(timeout, *popenargs, **kwargs)\u001b[0m\n\u001b[0;32m    334\u001b[0m \u001b[1;33m\u001b[0m\u001b[0m\n\u001b[0;32m    335\u001b[0m     return run(*popenargs, stdout=PIPE, timeout=timeout, check=True,\n\u001b[1;32m--> 336\u001b[1;33m                **kwargs).stdout\n\u001b[0m\u001b[0;32m    337\u001b[0m \u001b[1;33m\u001b[0m\u001b[0m\n\u001b[0;32m    338\u001b[0m \u001b[1;33m\u001b[0m\u001b[0m\n",
      "\u001b[1;32m~\\AppData\\Local\\Continuum\\anaconda3\\lib\\subprocess.py\u001b[0m in \u001b[0;36mrun\u001b[1;34m(input, timeout, check, *popenargs, **kwargs)\u001b[0m\n\u001b[0;32m    416\u001b[0m         \u001b[1;32mif\u001b[0m \u001b[0mcheck\u001b[0m \u001b[1;32mand\u001b[0m \u001b[0mretcode\u001b[0m\u001b[1;33m:\u001b[0m\u001b[1;33m\u001b[0m\u001b[0m\n\u001b[0;32m    417\u001b[0m             raise CalledProcessError(retcode, process.args,\n\u001b[1;32m--> 418\u001b[1;33m                                      output=stdout, stderr=stderr)\n\u001b[0m\u001b[0;32m    419\u001b[0m     \u001b[1;32mreturn\u001b[0m \u001b[0mCompletedProcess\u001b[0m\u001b[1;33m(\u001b[0m\u001b[0mprocess\u001b[0m\u001b[1;33m.\u001b[0m\u001b[0margs\u001b[0m\u001b[1;33m,\u001b[0m \u001b[0mretcode\u001b[0m\u001b[1;33m,\u001b[0m \u001b[0mstdout\u001b[0m\u001b[1;33m,\u001b[0m \u001b[0mstderr\u001b[0m\u001b[1;33m)\u001b[0m\u001b[1;33m\u001b[0m\u001b[0m\n\u001b[0;32m    420\u001b[0m \u001b[1;33m\u001b[0m\u001b[0m\n",
      "\u001b[1;31mCalledProcessError\u001b[0m: Command '['ls', '../input']' returned non-zero exit status 2."
     ]
    }
   ],
   "source": [
    "# This Python 3 environment comes with many helpful analytics libraries installed\n",
    "# It is defined by the kaggle/python docker image: https://github.com/kaggle/docker-python\n",
    "# For example, here's several helpful packages to load in \n",
    "\n",
    "import numpy as np # linear algebra\n",
    "import pandas as pd # data processing, CSV file I/O (e.g. pd.read_csv)\n",
    "\n",
    "# Input data files are available in the \"../input/\" directory.\n",
    "# For example, running this (by clicking run or pressing Shift+Enter) will list the files in the input directory\n",
    "\n",
    "from subprocess import check_output\n",
    "print(check_output([\"ls\", \"../input\"]).decode(\"utf8\"))\n",
    "\n",
    "# Any results you write to the current directory are saved as output."
   ]
  },
  {
   "cell_type": "code",
   "execution_count": null,
   "metadata": {
    "_cell_guid": "ad2039cc-ed5b-a583-fff8-8cf4935e45ea",
    "collapsed": true
   },
   "outputs": [],
   "source": [
    "import pandas as pd\n",
    "import matplotlib.pyplot as plt\n",
    "import numpy as np\n",
    "\n",
    "from sklearn.linear_model import Lasso\n",
    "from sklearn.ensemble import RandomForestRegressor\n",
    "from sklearn.ensemble import GradientBoostingRegressor\n",
    "from sklearn.grid_search import GridSearchCV\n",
    "from sklearn.ensemble import GradientBoostingRegressor"
   ]
  },
  {
   "cell_type": "markdown",
   "metadata": {
    "_cell_guid": "6a0fb685-cab5-fe35-1800-53101dcb1f90"
   },
   "source": [
    "加载数据到内存"
   ]
  },
  {
   "cell_type": "code",
   "execution_count": null,
   "metadata": {
    "_cell_guid": "6ed8fe4e-5698-de97-eab8-1af588655231",
    "collapsed": true
   },
   "outputs": [],
   "source": [
    "# 加载数据\n",
    "train_data = pd.read_csv(\"../input/train.csv\")\n",
    "test_data = pd.read_csv(\"../input/train.csv\")"
   ]
  },
  {
   "cell_type": "code",
   "execution_count": null,
   "metadata": {
    "_cell_guid": "3273fde3-89ea-2c85-d466-e47911834528",
    "collapsed": true
   },
   "outputs": [],
   "source": [
    "# 定义若干个对数据进行清理的函数，这些函数主要作用在pandas的DataFrame数据类型上\n",
    "# 查看数据集属性值得确实情况\n",
    "def show_missing(houseprice):\n",
    "    missing = houseprice.columns[houseprice.isnull().any()].tolist()\n",
    "    return missing\n",
    "\n",
    "# 查看 categorical 特征的值情况\n",
    "def cat_exploration(houseprice, column):\n",
    "    print(houseprice[column].value_counts())\n",
    "\n",
    "# 对数据集中某一列的缺失值进行tia\n",
    "def cat_imputation(houseprice, column, value):\n",
    "    houseprice.loc[houseprice[column].isnull(), column] = value\n"
   ]
  },
  {
   "cell_type": "markdown",
   "metadata": {
    "_cell_guid": "201d8af6-f0ac-ace8-cd6d-15eae96573cf"
   },
   "source": [
    "准备工作完事之后，开始对shu'ju'ji"
   ]
  },
  {
   "cell_type": "code",
   "execution_count": null,
   "metadata": {
    "_cell_guid": "577e5407-b30e-7997-f3bf-6061f2c778ee",
    "collapsed": true
   },
   "outputs": [],
   "source": [
    "# LotFrontage\n",
    "# check correlation with LotArea\n",
    "# print(test_data['LotFrontage'].corr(test_data['LotArea']))  # 0.64\n",
    "# print(train_data['LotFrontage'].corr(train_data['LotArea']))  # 0.42\n",
    "test_data['SqrtLotArea'] = np.sqrt(test_data['LotArea'])\n",
    "train_data['SqrtLotArea'] = np.sqrt(train_data['LotArea'])\n",
    "\n",
    "# print(test_data['LotFrontage'].corr(test_data['SqrtLotArea']))\n",
    "# print(train_data['LotFrontage'].corr(train_data['SqrtLotArea']))\n",
    "\n",
    "cond = test_data['LotFrontage'].isnull()\n",
    "test_data.LotFrontage[cond] = test_data.SqrtLotArea[cond]\n",
    "cond = train_data['LotFrontage'].isnull()\n",
    "train_data.LotFrontage[cond] = train_data.SqrtLotArea[cond]\n",
    "\n",
    "del test_data['SqrtLotArea']\n",
    "del train_data['SqrtLotArea']"
   ]
  },
  {
   "cell_type": "code",
   "execution_count": null,
   "metadata": {
    "_cell_guid": "8494a2b6-63e8-1cd6-ea19-7a9cba1e8ad3",
    "collapsed": true
   },
   "outputs": [],
   "source": [
    "# MSZoning\n",
    "# 在test测试集中有缺失, train中没有\n",
    "# cat_exploration(test_data, 'MSZoning')\n",
    "# print(test_data[test_data['MSZoning'].isnull() == True])\n",
    "# MSSubClass  MSZoning\n",
    "# print(pd.crosstab(test_data.MSSubClass, test_data.MSZoning))\n",
    "# 30:RM 20:RL 70:RM\n",
    "test_data.loc[test_data['MSSubClass'] == 20, 'MSZoning'] = 'RL'\n",
    "test_data.loc[test_data['MSSubClass'] == 30, 'MSZoning'] = 'RM'\n",
    "test_data.loc[test_data['MSSubClass'] == 70, 'MSZoning'] = 'RM'"
   ]
  },
  {
   "cell_type": "code",
   "execution_count": null,
   "metadata": {
    "_cell_guid": "7603f72a-8830-fa05-4ad1-f213fcb93079",
    "collapsed": true
   },
   "outputs": [],
   "source": [
    "# Alley\n",
    "# print(cat_exploration(test_data, 'Alley'))\n",
    "# print(cat_exploration(train_data, 'Alley'))\n",
    "# Alley这个特征有太多的nans,这里填充None，也可以直接删除，不使用。后面在根据特征的重要性选择特征是，也可以舍去\n",
    "cat_imputation(test_data, 'Alley', 'None')\n",
    "cat_imputation(train_data, 'Alley', 'None')"
   ]
  },
  {
   "cell_type": "code",
   "execution_count": null,
   "metadata": {
    "_cell_guid": "cde777a4-bea3-0a01-955d-345e23c8dd4a",
    "collapsed": true
   },
   "outputs": [],
   "source": [
    "# Utilities\n",
    "# 只有test有缺失值, train中没有\n",
    "# 并且这个column中值得分布极为不均匀\n",
    "# drop\n",
    "# print(cat_exploration(test_data, 'Utilities'))\n",
    "# print(cat_exploration(train_data, 'Utilities'))\n",
    "# print(test_data.loc[test_data['Utilities'].isnull() == True])\n",
    "test_data = test_data.drop(['Utilities'], axis=1)\n",
    "train_data = train_data.drop(['Utilities'], axis=1)\n"
   ]
  },
  {
   "cell_type": "code",
   "execution_count": null,
   "metadata": {
    "_cell_guid": "8e22315f-668a-9877-3aa5-84b002756e90",
    "collapsed": true
   },
   "outputs": [],
   "source": [
    "# Exterior1st & Exterior2nd\n",
    "# 只在test中出现缺失值(nans only appear in test set)\n",
    "# 检查Exterior1st 和 Exterior2nd 是否存在缺失值共现的情况\n",
    "# cat_exploration(test_data, 'Exterior1st')\n",
    "# cat_exploration(train_data, 'Exterior1st')\n",
    "# print(test_data[['Exterior1st', 'Exterior2nd']][test_data['Exterior1st'].isnull() == True])\n",
    "# print(pd.crosstab(test_data.Exterior1st, test_data.ExterQual))\n",
    "test_data.loc[test_data['Exterior1st'].isnull(), 'Exterior1st'] = 'VinylSd'\n",
    "test_data.loc[test_data['Exterior2nd'].isnull(), 'Exterior2nd'] = 'VinylSd'\n",
    "\n"
   ]
  },
  {
   "cell_type": "code",
   "execution_count": null,
   "metadata": {
    "_cell_guid": "dcaa4c93-9e67-f492-e52e-cedf31e88e26",
    "collapsed": true
   },
   "outputs": [],
   "source": [
    "# MasVnrType & MasVnrArea\n",
    "# print(test_data[['MasVnrType', 'MasVnrArea']][test_data['MasVnrType'].isnull() == True])\n",
    "# print(train_data[['MasVnrType', 'MasVnrArea']][train_data['MasVnrType'].isnull() == True])\n",
    "# So the missing values for the \"MasVnr...\" Variables are in the same rows.\n",
    "# cat_exploration(test_data, 'MasVnrType')\n",
    "# cat_exploration(train_data, 'MasVnrType')\n",
    "cat_imputation(test_data, 'MasVnrType', 'None')\n",
    "cat_imputation(train_data, 'MasVnrType', 'None')\n",
    "cat_imputation(test_data, 'MasVnrArea', 0.0)\n",
    "cat_imputation(train_data, 'MasVnrArea', 0.0)"
   ]
  },
  {
   "cell_type": "code",
   "execution_count": null,
   "metadata": {
    "_cell_guid": "3a302ff3-1a05-d144-f307-69c727d55838",
    "collapsed": true
   },
   "outputs": [],
   "source": [
    "# basement\n",
    "# train\n",
    "basement_cols = ['BsmtQual', 'BsmtCond', 'BsmtExposure', 'BsmtFinType1', 'BsmtFinType2', 'BsmtFinSF1', 'BsmtFinSF2']\n",
    "# print(train_data[basement_cols][train_data['BsmtQual'].isnull() == True])\n",
    "for cols in basement_cols:\n",
    "    if 'FinFS' not in cols:\n",
    "        cat_imputation(train_data, cols, 'None')\n",
    "\n",
    "# test\n",
    "basement_cols = ['Id', 'BsmtQual', 'BsmtCond', 'BsmtExposure', 'BsmtFinType1', 'BsmtFinType2']\n",
    "# print(test_data[basement_cols][test_data['BsmtCond'].isnull() == True])\n",
    "# 其中,有三行只有BsmtCond为NaN,该三行的其他列均有值  580  725  1064\n",
    "# print(pd.crosstab(test_data.BsmtCond, test_data.BsmtQual))\n",
    "\"\"\"\n",
    "BsmtQual   Ex  Fa   Gd   TA\n",
    "BsmtCond\n",
    "Fa          0  14    7   37\n",
    "Gd         12   2   30   13\n",
    "Po          1   1    0    1\n",
    "TA        124  36  553  581\n",
    "\"\"\"\n",
    "test_data.loc[test_data['Id'] == 580, 'BsmtCond'] = 'TA'\n",
    "test_data.loc[test_data['Id'] == 725, 'BsmtCond'] = 'TA'\n",
    "test_data.loc[test_data['Id'] == 1064, 'BsmtCond'] = 'TA'\n",
    "# 除了上述三行之外, 其他行的NaN都是一样的\n",
    "for cols in basement_cols:\n",
    "    if cols not in 'SF' and cols not in 'Bath':\n",
    "        test_data.loc[test_data['BsmtFinSF1'] == 0.0, cols] = 'None'\n",
    "for cols in basement_cols:\n",
    "    if test_data[cols].dtype == np.object:\n",
    "        cat_imputation(test_data, cols, 'None')\n",
    "    else:\n",
    "        cat_imputation(test_data, cols, 0.0)\n",
    "cat_imputation(test_data, 'BsmtFinSF1', '0')\n",
    "cat_imputation(test_data, 'BsmtFinSF2', '0')\n",
    "cat_imputation(test_data, 'BsmtUnfSF', '0')\n",
    "cat_imputation(test_data, 'TotalBsmtSF', '0')\n",
    "cat_imputation(test_data, 'BsmtFullBath', '0')\n",
    "cat_imputation(test_data, 'BsmtHalfBath', '0')"
   ]
  },
  {
   "cell_type": "markdown",
   "metadata": {
    "_cell_guid": "999c4d29-12c5-dcce-3d7c-8cd5d2db3a96"
   },
   "source": [
    "对于BsmtQual这个特征，取值有 Ex，Gd，TA，Fa，Po. 从数据的说明中可以看出，这依次是优秀，好，次好，一般，差几个等级，这具有明显的可比较性，可以使用map编码。如下："
   ]
  },
  {
   "cell_type": "code",
   "execution_count": null,
   "metadata": {
    "_cell_guid": "fb4eb3f6-0da1-61ed-d593-c89f82a96d87",
    "collapsed": true
   },
   "outputs": [],
   "source": [
    "train_data = train_data.replace({'BsmtQual': {'Ex': 5, 'Gd': 4, 'TA': 3, 'Fa': 2, 'Po': 1, np.NaN: 0}})\n",
    "test_data = test_data.replace({'BsmtQual': {'Ex': 5, 'Gd': 4, 'TA': 3, 'Fa': 2, 'Po': 1, np.NaN: 0}})"
   ]
  },
  {
   "cell_type": "markdown",
   "metadata": {
    "_cell_guid": "76991460-e553-8dac-25ec-6502a1a15426"
   },
   "source": [
    "我感觉，除了BsmtQual这个特征以外，其他几个特征，比如BsmtCond，HeatingQC等都可以尝试类似的编码方式。避免使用one-hot编码。"
   ]
  },
  {
   "cell_type": "code",
   "execution_count": null,
   "metadata": {
    "_cell_guid": "25e8ffcc-c111-35d9-fc02-5c7fba572565",
    "collapsed": true
   },
   "outputs": [],
   "source": [
    "# KitchenQual\n",
    "# 只在测试集中有缺失值\n",
    "# cat_exploration(test_data, 'KitchenQual')\n",
    "# cat_exploration(train_data, 'KitchenQual')\n",
    "# print(test_data[['KitchenQual', 'KitchenAbvGr']][test_data['KitchenQual'].isnull() == True])\n",
    "# print(pd.crosstab(test_data.KitchenQual, test_data.KitchenAbvGr))\n",
    "cat_imputation(test_data, 'KitchenQual', 'TA')"
   ]
  },
  {
   "cell_type": "code",
   "execution_count": null,
   "metadata": {
    "_cell_guid": "cb970d56-a2d7-4e6b-0b62-b674c379f073",
    "collapsed": true
   },
   "outputs": [],
   "source": [
    "# Functional\n",
    "# 只在测试集中有缺失值\n",
    "# 填充一个最常见的值\n",
    "# cat_exploration(test_data, 'Functional')\n",
    "cat_imputation(test_data, 'Functional', 'Typ')"
   ]
  },
  {
   "cell_type": "code",
   "execution_count": null,
   "metadata": {
    "_cell_guid": "165fe779-4967-fe35-8023-8dcda981adca",
    "collapsed": true
   },
   "outputs": [],
   "source": [
    "# FireplaceQu & Fireplaces\n",
    "# cat_exploration(test_data, 'FireplaceQu')\n",
    "# cat_exploration(train_data, 'FireplaceQu')\n",
    "# print(test_data['Fireplaces'][test_data['FireplaceQu'].isnull()==True].describe())\n",
    "# print(train_data['Fireplaces'][train_data['FireplaceQu'].isnull() == True].describe())\n",
    "cat_imputation(test_data, 'FireplaceQu', 'None')\n",
    "cat_imputation(train_data, 'FireplaceQu', 'None')"
   ]
  },
  {
   "cell_type": "code",
   "execution_count": null,
   "metadata": {
    "_cell_guid": "af7f5151-55ee-e9e3-e228-d7eecec9ba4a",
    "collapsed": true
   },
   "outputs": [],
   "source": [
    "# Garage\n",
    "# train set\n",
    "garage_cols = ['GarageType', 'GarageQual', 'GarageCond', 'GarageYrBlt', 'GarageFinish', 'GarageCars', 'GarageArea']\n",
    "# print(train_data[garage_cols][train_data['GarageType'].isnull() == True])\n",
    "for cols in garage_cols:\n",
    "    if train_data[cols].dtype == np.object:\n",
    "        cat_imputation(train_data, cols, 'None')\n",
    "    else:\n",
    "        cat_imputation(train_data, cols, 0)\n",
    "\n",
    "# test set\n",
    "garage_cols = ['GarageType', 'GarageQual', 'GarageCond', 'GarageYrBlt', 'GarageFinish', 'GarageCars', 'GarageArea']\n",
    "# print(test_data[garage_cols][test_data['GarageType'].isnull() == True])\n",
    "for cols in garage_cols:\n",
    "    if test_data[cols].dtype == np.object:\n",
    "        cat_imputation(test_data, cols, 'None')\n",
    "    else:\n",
    "        cat_imputation(test_data, cols, 0)"
   ]
  },
  {
   "cell_type": "code",
   "execution_count": null,
   "metadata": {
    "_cell_guid": "619ce0da-23b8-981d-d248-e81d16acf354",
    "collapsed": true
   },
   "outputs": [],
   "source": [
    "# PoolQC\n",
    "# 不易处理, 并且分布偏差大, drop\n",
    "test_data = test_data.drop(['PoolQC'], axis=1)\n",
    "train_data = train_data.drop(['PoolQC'], axis=1)\n",
    "test_data = test_data.drop(['PoolArea'], axis=1)\n",
    "train_data = train_data.drop(['PoolArea'], axis=1)\n"
   ]
  },
  {
   "cell_type": "code",
   "execution_count": null,
   "metadata": {
    "_cell_guid": "225853d6-e60f-e051-8327-7bdef7422a59",
    "collapsed": true
   },
   "outputs": [],
   "source": [
    "# Fence\n",
    "# cat_exploration(test_data, 'Fence')\n",
    "# cat_exploration(train_data, 'Fence')\n",
    "cat_imputation(test_data, 'Fence', 'None')\n",
    "cat_imputation(train_data, 'Fence', 'None')\n",
    "\n",
    "# MiscFeature\n",
    "cat_imputation(test_data, 'MiscFeature', 'None')\n",
    "cat_imputation(train_data, 'MiscFeature', 'None')\n",
    "\n",
    "# SaleType\n",
    "# nans only appear in test set\n",
    "# cat_exploration(test_data, 'SaleType')\n",
    "cat_imputation(test_data, 'SaleType', 'WD')\n",
    "\n",
    "# Electrical\n",
    "# nans only appear in train set\n",
    "# cat_exploration(train_data, 'Electrical')\n",
    "cat_imputation(train_data, 'Electrical', 'SBrkr')\n"
   ]
  },
  {
   "cell_type": "markdown",
   "metadata": {
    "_cell_guid": "d9702022-1469-26c7-b059-9c71758e4ac4"
   },
   "source": [
    "到此为止，我们基本把所有的缺失值都填补完整了，但是还有一列MSSubClass，原始数据类型是int64,我并不认为这一列具有可比性，所以把MSSubClass映射成object"
   ]
  },
  {
   "cell_type": "code",
   "execution_count": null,
   "metadata": {
    "_cell_guid": "55e365a9-41f1-b048-ce6b-5bb2132597f6",
    "collapsed": true
   },
   "outputs": [],
   "source": [
    "# convert MSSubClass to object\n",
    "train_data = train_data.replace({\"MSSubClass\": {20: \"A\", 30: \"B\", 40: \"C\", 45: \"D\", 50: \"E\",\n",
    "                                                60: \"F\", 70: \"G\", 75: \"H\", 80: \"I\", 85: \"J\",\n",
    "                                                90: \"K\", 120: \"L\", 150: \"M\", 160: \"N\", 180: \"O\", 190: \"P\"}})\n",
    "test_data = test_data.replace({\"MSSubClass\": {20: \"A\", 30: \"B\", 40: \"C\", 45: \"D\", 50: \"E\",\n",
    "                                              60: \"F\", 70: \"G\", 75: \"H\", 80: \"I\", 85: \"J\",\n",
    "                                              90: \"K\", 120: \"L\", 150: \"M\", 160: \"N\", 180: \"O\", 190: \"P\"}})"
   ]
  },
  {
   "cell_type": "markdown",
   "metadata": {
    "_cell_guid": "33033242-ce72-8e35-f87b-7e972e42d3ea"
   },
   "source": [
    "之后，将所有categorical类型的特征进行one-hot编码。需要注意的是：训练集和测试集中，相同的列可能会有不同的类型需要统一：\n"
   ]
  },
  {
   "cell_type": "code",
   "execution_count": null,
   "metadata": {
    "_cell_guid": "5f27fcc7-f222-bb28-f295-1eda01956ddc",
    "collapsed": true
   },
   "outputs": [],
   "source": [
    "for col in test_data.columns:\n",
    "    t1 = test_data[col].dtype\n",
    "    t2 = train_data[col].dtype\n",
    "    if t1 != t2:\n",
    "        print(col, t1, t2)\n",
    "\"\"\"\n",
    "Id object int64\n",
    "BsmtFinSF1 object int64\n",
    "BsmtFinSF2 float64 int64\n",
    "BsmtUnfSF float64 int64\n",
    "TotalBsmtSF float64 int64\n",
    "BsmtFullBath float64 int64\n",
    "BsmtHalfBath float64 int64\n",
    "GarageCars float64 int64\n",
    "GarageArea float64 int64\n",
    "\"\"\""
   ]
  },
  {
   "cell_type": "code",
   "execution_count": null,
   "metadata": {
    "_cell_guid": "55542bda-58fe-dfeb-3327-0a25f5fc91ca",
    "collapsed": true
   },
   "outputs": [],
   "source": [
    "# convert to type of int64\n",
    "c = ['BsmtFinSF1', 'BsmtFinSF2', 'BsmtUnfSF', 'TotalBsmtSF', 'BsmtFullBath', 'BsmtHalfBath']\n",
    "for cols in c:\n",
    "    tmp_col = test_data[cols].astype(pd.np.float64)\n",
    "    tmp_col = pd.DataFrame({cols: tmp_col})\n",
    "    del test_data[cols]\n",
    "    test_data = pd.concat((test_data, tmp_col), axis=1)"
   ]
  },
  {
   "cell_type": "markdown",
   "metadata": {
    "_cell_guid": "e16570e2-960b-ccad-7901-4f31f886d2c9"
   },
   "source": [
    "one-hot编码，pandas  get_dummies"
   ]
  },
  {
   "cell_type": "code",
   "execution_count": null,
   "metadata": {
    "_cell_guid": "7b596516-60c6-cd01-8d23-5f28a570eeb3",
    "collapsed": true
   },
   "outputs": [],
   "source": [
    "for cols in train_data.columns:\n",
    "    if train_data[cols].dtype == np.object:\n",
    "        train_data = pd.concat((train_data, pd.get_dummies(train_data[cols], prefix=cols)), axis=1)\n",
    "        del train_data[cols]\n",
    "\n",
    "for cols in test_data.columns:\n",
    "    if test_data[cols].dtype == np.object:\n",
    "        test_data = pd.concat((test_data, pd.get_dummies(test_data[cols], prefix=cols)), axis=1)\n",
    "        del test_data[cols]"
   ]
  },
  {
   "cell_type": "markdown",
   "metadata": {
    "_cell_guid": "4dee619e-3550-dc8e-1612-5aea69ad4577"
   },
   "source": [
    "进行one-hot编码后，会出现一种情况就是：某个特征的某一个取值只出现在训练集中，没有出现在测试集中，或者相反，这个时候需要特征对齐"
   ]
  },
  {
   "cell_type": "code",
   "execution_count": null,
   "metadata": {
    "_cell_guid": "058773ce-b6a6-7708-f4bb-368cca283682",
    "collapsed": true
   },
   "outputs": [],
   "source": [
    "# 特征对齐\n",
    "col_train = train_data.columns\n",
    "col_test = test_data.columns\n",
    "for index in col_train:\n",
    "    if index in col_test:\n",
    "        pass\n",
    "    else:\n",
    "        del train_data[index]\n",
    "\n",
    "col_train = train_data.columns\n",
    "col_test = test_data.columns\n",
    "for index in col_test:\n",
    "    if index in col_train:\n",
    "        pass\n",
    "    else:\n",
    "        del test_data[index]"
   ]
  },
  {
   "cell_type": "markdown",
   "metadata": {
    "_cell_guid": "898b53e1-8aa0-7796-b1a6-cf4a5ed496e8"
   },
   "source": [
    "对齐后数据有294个特征，而训练样本只有1460个，相对而言，样本数目偏少。可通过随机森林等算法，对特征做一次初步的选择，取前100即可"
   ]
  },
  {
   "cell_type": "code",
   "execution_count": null,
   "metadata": {
    "_cell_guid": "061cf348-4922-9c1e-d380-30956015c1c0",
    "collapsed": true
   },
   "outputs": [],
   "source": [
    "\"\"\"\n",
    "特征重要性选择\n",
    "\"\"\"\n",
    "etr = RandomForestRegressor(n_estimators=400)\n",
    "train_y = train_training_set['SalePrice']\n",
    "train_x = train_training_set.drop(['SalePrice', 'Id'], axis=1)\n",
    "etr.fit(train_x, train_y)\n",
    "# print(etr.feature_importances_)\n",
    "imp = etr.feature_importances_\n",
    "imp = pd.DataFrame({'feature': train_x.columns, 'score': imp})\n",
    "print(imp.sort(['score'], ascending=[0]))  # 按照特征重要性, 进行降序排列, 最重要的特征在最前面\n",
    "imp = imp.sort(['score'], ascending=[0])\n",
    "imp.to_csv(\"../feature_importances2.csv\", index=False)"
   ]
  },
  {
   "cell_type": "markdown",
   "metadata": {
    "_cell_guid": "257e8ece-1b92-11f2-0b73-712e31066094"
   },
   "source": [
    "选择出的特征重要性如下：\n",
    "feature\tscore\n",
    "OverallQual\t0.5799000743690015\n",
    "GrLivArea\t0.10820875312650209\n",
    "TotalBsmtSF\t0.03837705846167602\n",
    "2ndFlrSF\t0.03592784725614217\n",
    "BsmtFinSF1\t0.02883734771640305\n",
    "1stFlrSF\t        0.02209390770590623\n",
    "GarageCars\t0.01957845181770064\n",
    "GarageArea\t0.015546817280099282\n",
    "LotArea\t        0.01343009949254447\n",
    "YearBuilt\t0.010665744211930665\n",
    "TotRmsAbvGrd\t0.007997881761944894\n",
    "YearRemodAdd\t0.007490734554926266\n",
    "LotFrontage\t0.006723088430274712\n",
    "FullBath\t        0.005806831944580276\n",
    "MasVnrArea\t0.00546035892325319\n",
    "BsmtUnfSF\t0.005047811295259738\n",
    "WoodDeckSF\t0.004557271424397398\n",
    "OpenPorchSF\t0.00449570144260445\n",
    "OverallCond\t0.0043676484943912545\n",
    "BsmtQual_5\t0.004270097611559787\n",
    "\n",
    "使用GBDT选择出的特征重要性系数和RF相差不大，总体趋势是一样的。\n",
    "模型选择使用的GBDT，参数是经过很多次调试得到的"
   ]
  },
  {
   "cell_type": "code",
   "execution_count": null,
   "metadata": {
    "_cell_guid": "ae98e984-7d89-c697-aaef-10c87331ad22",
    "collapsed": true
   },
   "outputs": [],
   "source": [
    "gbrt = GradientBoostingRegressor(\n",
    "                random_state=1,\n",
    "                learning_rate=0.015, \n",
    "                min_samples_split=2,\n",
    "                max_features='sqrt',   # 分裂的feature是随机挑选的\n",
    "                n_estimators=it,\n",
    "                min_samples_leaf=1,\n",
    "                subsample=0.2,\n",
    "                max_depth=3,\n",
    "            )"
   ]
  },
  {
   "cell_type": "markdown",
   "metadata": {
    "_cell_guid": "9555102f-1843-77b8-47b5-6d23fe43a78e"
   },
   "source": [
    "目前最好的测试结果是0.12207\n",
    "\n"
   ]
  }
 ],
 "metadata": {
  "_change_revision": 0,
  "_is_fork": false,
  "kernelspec": {
   "display_name": "Python 3",
   "language": "python",
   "name": "python3"
  },
  "language_info": {
   "codemirror_mode": {
    "name": "ipython",
    "version": 3
   },
   "file_extension": ".py",
   "mimetype": "text/x-python",
   "name": "python",
   "nbconvert_exporter": "python",
   "pygments_lexer": "ipython3",
   "version": "3.6.3"
  }
 },
 "nbformat": 4,
 "nbformat_minor": 1
}
